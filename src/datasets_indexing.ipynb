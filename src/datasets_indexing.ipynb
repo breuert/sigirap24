{
 "cells": [
  {
   "cell_type": "markdown",
   "metadata": {},
   "source": [
    "# Datasets indexing\n"
   ]
  },
  {
   "cell_type": "markdown",
   "metadata": {},
   "source": [
    "## Core17"
   ]
  },
  {
   "cell_type": "code",
   "execution_count": null,
   "metadata": {},
   "outputs": [],
   "source": [
    "import pyterrier as pt\n",
    "if not pt.started():\n",
    "  pt.init()\n",
    " \n",
    "# https://ir-datasets.com/nyt.html \n",
    "dataset = pt.get_dataset('irds:nyt')\n",
    "# Index nyt\n",
    "indexer = pt.IterDictIndexer('../indices/nyt')\n",
    "index_ref = indexer.index(dataset.get_corpus_iter(), fields=['headline', 'body'])"
   ]
  },
  {
   "cell_type": "markdown",
   "metadata": {},
   "source": [
    "## Core18"
   ]
  },
  {
   "cell_type": "code",
   "execution_count": null,
   "metadata": {},
   "outputs": [],
   "source": [
    "import pyterrier as pt\n",
    "if not pt.started():\n",
    "  pt.init()\n",
    "  \n",
    "# https://ir-datasets.com/wapo.html\n",
    "dataset = pt.get_dataset('irds:wapo/v2')\n",
    "# Index wapo/v2\n",
    "indexer = pt.IterDictIndexer('../indices/wapo_v2', meta={\"docno\": 36})\n",
    "index_ref = indexer.index(dataset.get_corpus_iter(), fields=['url', 'title', 'author', 'kicker', 'body'])"
   ]
  },
  {
   "cell_type": "markdown",
   "metadata": {},
   "source": [
    "## Robust04"
   ]
  },
  {
   "cell_type": "code",
   "execution_count": null,
   "metadata": {},
   "outputs": [],
   "source": [
    "import pyterrier as pt\n",
    "if not pt.started():\n",
    "  pt.init()\n",
    "  \n",
    "# https://ir-datasets.com/disks45.html\n",
    "dataset = pt.get_dataset('irds:disks45/nocr')\n",
    "# Index disks45/nocr\n",
    "indexer = pt.IterDictIndexer('../indices/disks45_nocr')\n",
    "index_ref = indexer.index(dataset.get_corpus_iter(), fields=['title', 'body'])"
   ]
  },
  {
   "cell_type": "markdown",
   "metadata": {},
   "source": [
    "## Robust05"
   ]
  },
  {
   "cell_type": "code",
   "execution_count": null,
   "metadata": {},
   "outputs": [],
   "source": [
    "import pyterrier as pt\n",
    "if not pt.started():\n",
    "  pt.init()\n",
    "\n",
    "# https://ir-datasets.com/aquaint.html\n",
    "dataset = pt.get_dataset('irds:aquaint')\n",
    "# Index aquaint\n",
    "indexer = pt.IterDictIndexer('../indices/aquaint')\n",
    "index_ref = indexer.index(dataset.get_corpus_iter(), fields=['text', 'marked_up_doc'])"
   ]
  }
 ],
 "metadata": {
  "language_info": {
   "name": "python"
  }
 },
 "nbformat": 4,
 "nbformat_minor": 2
}
